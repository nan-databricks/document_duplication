{
 "cells": [
  {
   "cell_type": "code",
   "execution_count": 0,
   "metadata": {
    "application/vnd.databricks.v1+cell": {
     "cellMetadata": {},
     "inputWidgets": {},
     "nuid": "3f59f19a-8e88-47ab-ada3-90935b82d406",
     "showTitle": false,
     "tableResultSettingsMap": {},
     "title": ""
    }
   },
   "outputs": [],
   "source": [
    "from io import BytesIO\n",
    "from PIL import Image\n",
    "import os\n",
    "\n",
    "dbutils.widgets.text(\n",
    "  name='input_dir',\n",
    "  defaultValue='/Volumes/nan_demo/default/document/jpg/',\n",
    "  label='input_dir'\n",
    ")\n",
    "\n",
    "dbutils.widgets.text(\n",
    "  name='output_dir',\n",
    "  defaultValue='/Volumes/nan_demo/default/document/pdf/',\n",
    "  label='output_dir'\n",
    ")\n",
    "\n",
    "input_dir = dbutils.widgets.get(\"input_dir\")\n",
    "output_dir = dbutils.widgets.get(\"output_dir\")\n",
    "\n",
    "os.makedirs(output_dir, exist_ok=True)\n",
    "\n",
    "for file_name in os.listdir(input_dir):\n",
    "    if file_name.lower().endswith('.jpg'):\n",
    "        img_path = os.path.join(input_dir, file_name)\n",
    "        with open(img_path, \"rb\") as img_file:\n",
    "            img_bytes = img_file.read()\n",
    "        img = Image.open(BytesIO(img_bytes)).convert(\"RGB\")\n",
    "        \n",
    "        pdf_buffer = BytesIO()\n",
    "        img.save(pdf_buffer, format=\"PDF\")\n",
    "        pdf_buffer.seek(0)\n",
    "        \n",
    "        out_file = file_name.rsplit('.', 1)[0] + \".pdf\"\n",
    "        out_path = os.path.join(output_dir, out_file)\n",
    "        with open(out_path, \"wb\") as pdf_file:\n",
    "            pdf_file.write(pdf_buffer.read())"
   ]
  }
 ],
 "metadata": {
  "application/vnd.databricks.v1+notebook": {
   "computePreferences": null,
   "dashboards": [],
   "environmentMetadata": {
    "base_environment": "",
    "environment_version": "3"
   },
   "inputWidgetPreferences": null,
   "language": "python",
   "notebookMetadata": {
    "pythonIndentUnit": 4
   },
   "notebookName": "jpg_to_pdf",
   "widgets": {}
  },
  "language_info": {
   "name": "python"
  }
 },
 "nbformat": 4,
 "nbformat_minor": 0
}
