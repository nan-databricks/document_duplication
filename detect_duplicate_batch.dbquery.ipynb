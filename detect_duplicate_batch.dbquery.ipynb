{
 "cells": [
  {
   "cell_type": "code",
   "execution_count": 0,
   "metadata": {
    "application/vnd.databricks.v1+cell": {
     "cellMetadata": {
      "byteLimit": 10485760,
      "rowLimit": 1000
     },
     "inputWidgets": {},
     "nuid": "3c7441e9-3a69-4cf9-8f29-d6834dc148d4",
     "showTitle": false,
     "tableResultSettingsMap": {},
     "title": ""
    }
   },
   "outputs": [],
   "source": [
    "CREATE TABLE IF NOT EXISTS nan_demo.default.dup_res (\n",
    "  doc_id_1 STRING,\n",
    "  doc_id_2 STRING,\n",
    "  ai_result STRING\n",
    ");\n",
    "\n",
    "MERGE INTO nan_demo.default.dup_res AS target\n",
    "USING (\n",
    "  SELECT \n",
    "      a.path AS doc_id_1,\n",
    "      b.path AS doc_id_2,\n",
    "      ai_query(\n",
    "        :endpoint,\n",
    "        CONCAT(\n",
    "          'Invoice 1: ', a.text, \n",
    "          ' Invoice 2: ', b.text\n",
    "        ),\n",
    "        failOnError => false\n",
    "      ).result AS ai_result\n",
    "  FROM nan_demo.default.pdf_parsed a\n",
    "  JOIN nan_demo.default.pdf_parsed b\n",
    "      ON a.path < b.path\n",
    ") AS source\n",
    "ON target.doc_id_1 = source.doc_id_1 AND target.doc_id_2 = source.doc_id_2\n",
    "WHEN MATCHED THEN\n",
    "  UPDATE SET ai_result = source.ai_result\n",
    "WHEN NOT MATCHED THEN\n",
    "  INSERT (doc_id_1, doc_id_2, ai_result)\n",
    "  VALUES (source.doc_id_1, source.doc_id_2, source.ai_result)"
   ]
  }
 ],
 "metadata": {
  "application/vnd.databricks.v1+notebook": {
   "computePreferences": null,
   "dashboards": [],
   "environmentMetadata": null,
   "inputWidgetPreferences": null,
   "language": "sql",
   "notebookMetadata": {
    "pythonIndentUnit": 4,
    "sqlQueryOptions": {
     "applyAutoLimit": true,
     "catalog": "nan_demo",
     "schema": "default"
    }
   },
   "notebookName": "detect_duplicate_batch.dbquery.ipynb",
   "widgets": {
    "endpoint": {
     "currentValue": "t2t-5d0b11a9-endpoint",
     "nuid": "af685817-3fa6-49ac-b57a-d04af5559143",
     "typedWidgetInfo": {
      "autoCreated": true,
      "defaultValue": "",
      "label": null,
      "name": "endpoint",
      "options": {
       "widgetDisplayType": "Text",
       "validationRegex": null
      },
      "parameterDataType": "String"
     },
     "widgetInfo": {
      "widgetType": "text",
      "defaultValue": "",
      "label": null,
      "name": "endpoint",
      "options": {
       "widgetType": "text",
       "autoCreated": true,
       "validationRegex": null
      }
     }
    }
   }
  },
  "language_info": {
   "name": "sql"
  }
 },
 "nbformat": 4,
 "nbformat_minor": 0
}
