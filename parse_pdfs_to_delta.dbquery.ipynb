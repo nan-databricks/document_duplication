{
 "cells": [
  {
   "cell_type": "code",
   "execution_count": 0,
   "metadata": {
    "application/vnd.databricks.v1+cell": {
     "cellMetadata": {},
     "inputWidgets": {},
     "nuid": "5821a39c-13e9-4c29-b91d-b3ff61e1d231",
     "showTitle": false,
     "tableResultSettingsMap": {},
     "title": ""
    }
   },
   "outputs": [],
   "source": [
    "SET STATEMENT_TIMEOUT = 86400; -- 24 hours in seconds\n",
    "DECLARE parse_extensions ARRAY<STRING> DEFAULT array('.pdf', '.jpg', '.jpeg', '.png');\n",
    "CREATE TABLE IF NOT EXISTS IDENTIFIER(:destinationTableName) AS (\n",
    "-- Parse documents with ai_parse\n",
    "WITH all_files AS (\n",
    "  SELECT\n",
    "    path,\n",
    "    content\n",
    "  FROM\n",
    "    READ_FILES(:sourceVolumePath, format => 'binaryFile')\n",
    "  ORDER BY\n",
    "    path ASC\n",
    "  LIMIT INT(:limit)\n",
    "),\n",
    "repartitioned_files AS (\n",
    "  SELECT *\n",
    "  FROM all_files\n",
    "  -- Force Spark to split into partitions\n",
    "  DISTRIBUTE BY crc32(path) % INT(:partitionCount)\n",
    "),\n",
    "-- Parse the files using ai_parse document\n",
    "parsed_documents AS (\n",
    "  SELECT\n",
    "    path,\n",
    "    ai_parse_document(content) as parsed\n",
    "  FROM\n",
    "    repartitioned_files\n",
    "  WHERE array_contains(parse_extensions, lower(regexp_extract(path, r'(\\.[^.]+)$', 1)))\n",
    "),\n",
    "raw_documents AS (\n",
    "  SELECT\n",
    "    path,\n",
    "    null as raw_parsed,\n",
    "    decode(content, 'utf-8') as text\n",
    "  FROM \n",
    "    repartitioned_files\n",
    "  WHERE NOT array_contains(parse_extensions, lower(regexp_extract(path, r'(\\.[^.]+)$', 1)))\n",
    "),\n",
    "-- Extract page markdowns from ai_parse output\n",
    "sorted_page_contents AS (\n",
    "  SELECT\n",
    "    path,\n",
    "    page:content AS content\n",
    "  FROM\n",
    "    (\n",
    "      SELECT\n",
    "        path,\n",
    "        posexplode(try_cast(parsed:document:pages AS ARRAY<VARIANT>)) AS (page_idx, page)\n",
    "      FROM\n",
    "        parsed_documents\n",
    "      WHERE\n",
    "        parsed:document:pages IS NOT NULL\n",
    "        AND CAST(parsed:error_status AS STRING) IS NULL\n",
    "    )\n",
    "  ORDER BY\n",
    "    page_idx\n",
    "),\n",
    "-- Concatenate so we have 1 row per document\n",
    "concatenated AS (\n",
    "    SELECT\n",
    "        path,\n",
    "        concat_ws('\n",
    "\n",
    "', collect_list(content)) AS full_content\n",
    "    FROM\n",
    "        sorted_page_contents\n",
    "    GROUP BY\n",
    "        path\n",
    "),\n",
    "-- Bring back the raw parsing since it could be useful for other downstream uses\n",
    "with_raw AS (\n",
    "    SELECT\n",
    "        a.path,\n",
    "        b.parsed as raw_parsed,\n",
    "        a.full_content as text\n",
    "    FROM concatenated a\n",
    "    JOIN parsed_documents b ON a.path = b.path\n",
    ")\n",
    "-- Recombine raw text documents with parsed documents\n",
    "SELECT *  FROM with_raw\n",
    "UNION ALL \n",
    "SELECT * FROM raw_documents\n",
    ");\n",
    "-- Display a sample from the table\n",
    "SELECT\n",
    "    *\n",
    "FROM IDENTIFIER(:destinationTableName)\n",
    "LIMIT 20"
   ]
  }
 ],
 "metadata": {
  "application/vnd.databricks.v1+notebook": {
   "computePreferences": null,
   "dashboards": [],
   "environmentMetadata": null,
   "inputWidgetPreferences": null,
   "language": "sql",
   "notebookMetadata": {
    "pythonIndentUnit": 4,
    "sqlQueryOptions": {
     "applyAutoLimit": false,
     "catalog": "nan_demo",
     "schema": "default"
    }
   },
   "notebookName": "parse_pdfs_to_delta.dbquery.ipynb",
   "widgets": {
    "destinationTableName": {
     "currentValue": "",
     "nuid": "774dfcfd-44d7-4f03-ae79-a8d6891d65a9",
     "typedWidgetInfo": {
      "autoCreated": false,
      "defaultValue": "",
      "label": "destinationTableName",
      "name": "destinationTableName",
      "options": {
       "widgetDisplayType": "Text",
       "validationRegex": null
      },
      "parameterDataType": "String"
     },
     "widgetInfo": {
      "widgetType": "text",
      "defaultValue": "",
      "label": "destinationTableName",
      "name": "destinationTableName",
      "options": {
       "widgetType": "text",
       "autoCreated": false,
       "validationRegex": null
      }
     }
    },
    "limit": {
     "currentValue": "100",
     "nuid": "513c8936-2781-4ea4-b423-9b479611e3c9",
     "typedWidgetInfo": {
      "autoCreated": false,
      "defaultValue": "100",
      "label": "limit",
      "name": "limit",
      "options": {
       "widgetDisplayType": "Text",
       "validationRegex": null
      },
      "parameterDataType": "Integer"
     },
     "widgetInfo": {
      "widgetType": "text",
      "defaultValue": "100",
      "label": "limit",
      "name": "limit",
      "options": {
       "widgetType": "text",
       "autoCreated": false,
       "validationRegex": null
      }
     }
    },
    "partitionCount": {
     "currentValue": "4",
     "nuid": "8c8889d4-1521-4579-b9b0-c3cbe1ead3c8",
     "typedWidgetInfo": {
      "autoCreated": false,
      "defaultValue": "4",
      "label": "partitionCount",
      "name": "partitionCount",
      "options": {
       "widgetDisplayType": "Text",
       "validationRegex": null
      },
      "parameterDataType": "Integer"
     },
     "widgetInfo": {
      "widgetType": "text",
      "defaultValue": "4",
      "label": "partitionCount",
      "name": "partitionCount",
      "options": {
       "widgetType": "text",
       "autoCreated": false,
       "validationRegex": null
      }
     }
    },
    "sourceVolumePath": {
     "currentValue": "",
     "nuid": "6922106f-d24a-49cc-8605-0d7ef022017e",
     "typedWidgetInfo": {
      "autoCreated": false,
      "defaultValue": "",
      "label": "sourceVolumePath",
      "name": "sourceVolumePath",
      "options": {
       "widgetDisplayType": "Text",
       "validationRegex": null
      },
      "parameterDataType": "String"
     },
     "widgetInfo": {
      "widgetType": "text",
      "defaultValue": "",
      "label": "sourceVolumePath",
      "name": "sourceVolumePath",
      "options": {
       "widgetType": "text",
       "autoCreated": false,
       "validationRegex": null
      }
     }
    }
   }
  },
  "language_info": {
   "name": "sql"
  }
 },
 "nbformat": 4,
 "nbformat_minor": 0
}
